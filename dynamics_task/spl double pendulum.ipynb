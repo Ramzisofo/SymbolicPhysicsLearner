{
 "cells": [
  {
   "cell_type": "code",
   "execution_count": 1,
   "metadata": {},
   "outputs": [],
   "source": [
    "import sys\n",
    "import numpy as np\n",
    "sys.path.append(r'../')\n",
    "\n",
    "from spl_train import run_spl"
   ]
  },
  {
   "cell_type": "code",
   "execution_count": 2,
   "metadata": {},
   "outputs": [],
   "source": [
    "output_folder = 'results_spl/'  ## directory to save discovered results\n",
    "save_eqs = True                 ## if true, discovered equations are saved to \"output_folder\" dir"
   ]
  },
  {
   "cell_type": "markdown",
   "metadata": {},
   "source": [
    "### discover $\\ddot\\omega_1$"
   ]
  },
  {
   "cell_type": "code",
   "execution_count": 6,
   "metadata": {},
   "outputs": [
    {
     "name": "stdout",
     "output_type": "stream",
     "text": [
      "test 0\n",
      "Episode 20000/20000, current best reward 0.08246451788156288...\n",
      "1 tests complete after 2 iterations.\n",
      "best solution: -0.1027*w2**2*sin(x1 - x2) - 0.0991*wdot*cos(x1 - x2) - 69.2742*sin(x1) + 0.5151*cos(x1)\n",
      "test score: 0.06788881734844207\n",
      "\n",
      "test 1\n",
      "Episode 20000/20000, current best reward 0.0011218646117939653.\n",
      "2 tests complete after 2 iterations.\n",
      "best solution: 1.1767*w2*sin(x1 - x2) - 0.1569*wdot*cos(x1 - x2) - 0.09733892*wdot - 66.2577*sin(x1) + cos(x1)\n",
      "test score: 0.0008530203075145726\n",
      "\n",
      "test 2\n",
      "Episode 20000/20000, current best reward 0.0010722460086440104.\n",
      "3 tests complete after 2 iterations.\n",
      "best solution: w1 + 0.4677*w2*sign(wdot) - 0.1768*wdot*cos(x1 - x2) - 66.1616*sin(x1) - 30.4285*sin(x1 - x2)\n",
      "test score: 0.0006603945342691833\n",
      "\n",
      "test 3\n",
      "Episode 20000/20000, current best reward 0.08148200656298715...\n",
      "4 tests complete after 2 iterations.\n",
      "best solution: -0.1027*w2**2*sin(x1 - x2) - 0.099*wdot*cos(x1 - x2) - 69.2755*sin(x1) + 0.0534*sin(x2)\n",
      "test score: 0.06705482676111418\n",
      "\n",
      "test 4\n",
      "Episode 20000/20000, current best reward 0.0046803583459456895.\n",
      "5 tests complete after 2 iterations.\n",
      "best solution: -2.7954*w2*sin(x1 - x2)*sign(w2) - 0.1069*wdot*cos(x1 - x2) - 67.594*sin(x1)\n",
      "test score: 0.002765004951096023\n",
      "\n"
     ]
    }
   ],
   "source": [
    "task = 'dp_f1'\n",
    "\n",
    "all_eqs, _, _ = run_spl(task, \n",
    "                        num_run=5, \n",
    "                        max_len=20,\n",
    "                        eta=1, \n",
    "                        max_module_init=20,\n",
    "                        num_transplant=2, \n",
    "                        num_aug=0,\n",
    "                        transplant_step=20000, \n",
    "                        count_success=False)"
   ]
  },
  {
   "cell_type": "code",
   "execution_count": 7,
   "metadata": {},
   "outputs": [],
   "source": [
    "if save_eqs:\n",
    "    output_file = open(output_folder + task + '.txt', 'w')\n",
    "    for eq in all_eqs:\n",
    "        output_file.write(eq.replace('wdot', 'dw2') + '\\n')\n",
    "    output_file.close()"
   ]
  },
  {
   "cell_type": "markdown",
   "metadata": {},
   "source": [
    "### discover $\\ddot\\omega_2$"
   ]
  },
  {
   "cell_type": "code",
   "execution_count": 8,
   "metadata": {},
   "outputs": [
    {
     "name": "stdout",
     "output_type": "stream",
     "text": [
      "test 0\n",
      "Episode 20000/20000, current best reward 0.0009612913199225256..\n",
      "1 tests complete after 2 iterations.\n",
      "best solution: w1**2*sin(x1 - x2) + 0.0279*w1 - 1.6709*wdot*cos(x1 - x2) - 112.3439*sin(x2)\n",
      "test score: 0.00170213098462804\n",
      "\n",
      "test 1\n",
      "Episode 20000/20000, current best reward 0.008965616118848656.\n",
      "2 tests complete after 2 iterations.\n",
      "best solution: 1.3602*w1**2*sin(x1 - x2) + w1 - 1.3633*wdot*cos(x1 - x2) - 0.01059894*wdot - 92.8386*sin(x2)\n",
      "test score: 0.009995023986332436\n",
      "\n",
      "test 2\n",
      "Episode 20000/20000, current best reward 0.025513771443400796...\n",
      "3 tests complete after 2 iterations.\n",
      "best solution: 1.3625*w1**2*sin(x1 - x2) + 0.032*w1 - 1.36846791*wdot*cos(x1 - x2) - 92.913*sin(x2)\n",
      "test score: 0.019259990633334396\n",
      "\n",
      "test 3\n",
      "Episode 20000/20000, current best reward 0.025462211686198343.3.\n",
      "4 tests complete after 2 iterations.\n",
      "best solution: 1.3625*w1**2*sin(x1 - x2) - 1.3685*wdot*cos(x1 - x2) - 92.9109*sin(x2)\n",
      "test score: 0.01927304155138622\n",
      "\n",
      "test 4\n",
      "Episode 20000/20000, current best reward 0.025462211686198343..\n",
      "5 tests complete after 2 iterations.\n",
      "best solution: 1.3625*w1**2*sin(x1 - x2) - 1.3685*wdot*cos(x1 - x2) - 92.9109*sin(x2)\n",
      "test score: 0.01927304155138622\n",
      "\n"
     ]
    }
   ],
   "source": [
    "task = 'dp_f2'\n",
    "\n",
    "all_eqs, _, _ = run_spl(task, \n",
    "                        num_run=5, \n",
    "                        max_len=20,\n",
    "                        eta=1, \n",
    "                        max_module_init=20,\n",
    "                        num_transplant=2, \n",
    "                        num_aug=0,\n",
    "                        transplant_step=20000, \n",
    "                        count_success=False)"
   ]
  },
  {
   "cell_type": "code",
   "execution_count": 9,
   "metadata": {},
   "outputs": [],
   "source": [
    "if save_eqs:\n",
    "    output_file = open(output_folder + task + '.txt', 'w')\n",
    "    for eq in all_eqs:\n",
    "        output_file.write(eq.replace('wdot', 'dw1') + '\\n')\n",
    "    output_file.close()"
   ]
  },
  {
   "cell_type": "code",
   "execution_count": null,
   "metadata": {},
   "outputs": [],
   "source": []
  }
 ],
 "metadata": {
  "kernelspec": {
   "display_name": "Python 3",
   "language": "python",
   "name": "python3"
  },
  "language_info": {
   "codemirror_mode": {
    "name": "ipython",
    "version": 3
   },
   "file_extension": ".py",
   "mimetype": "text/x-python",
   "name": "python",
   "nbconvert_exporter": "python",
   "pygments_lexer": "ipython3",
   "version": "3.7.4"
  }
 },
 "nbformat": 4,
 "nbformat_minor": 2
}
