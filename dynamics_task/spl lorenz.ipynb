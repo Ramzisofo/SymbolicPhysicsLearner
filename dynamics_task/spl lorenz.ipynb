{
 "cells": [
  {
   "cell_type": "code",
   "execution_count": 1,
   "metadata": {
    "ExecuteTime": {
     "end_time": "2023-05-19T05:40:06.226458100Z",
     "start_time": "2023-05-19T05:40:02.542696600Z"
    }
   },
   "outputs": [
    {
     "ename": "ModuleNotFoundError",
     "evalue": "No module named 'ot'",
     "output_type": "error",
     "traceback": [
      "\u001B[1;31m---------------------------------------------------------------------------\u001B[0m",
      "\u001B[1;31mModuleNotFoundError\u001B[0m                       Traceback (most recent call last)",
      "Cell \u001B[1;32mIn[1], line 5\u001B[0m\n\u001B[0;32m      2\u001B[0m \u001B[38;5;28;01mimport\u001B[39;00m \u001B[38;5;21;01mnumpy\u001B[39;00m \u001B[38;5;28;01mas\u001B[39;00m \u001B[38;5;21;01mnp\u001B[39;00m\n\u001B[0;32m      3\u001B[0m sys\u001B[38;5;241m.\u001B[39mpath\u001B[38;5;241m.\u001B[39mappend(\u001B[38;5;124mr\u001B[39m\u001B[38;5;124m'\u001B[39m\u001B[38;5;124m../\u001B[39m\u001B[38;5;124m'\u001B[39m)\n\u001B[1;32m----> 5\u001B[0m \u001B[38;5;28;01mfrom\u001B[39;00m \u001B[38;5;21;01mspl_train\u001B[39;00m \u001B[38;5;28;01mimport\u001B[39;00m run_spl\n",
      "File \u001B[1;32m~\\PycharmProjects\\SymbolicPhysicsLearner\\spl_train.py:4\u001B[0m\n\u001B[0;32m      2\u001B[0m \u001B[38;5;28;01mimport\u001B[39;00m \u001B[38;5;21;01mpandas\u001B[39;00m \u001B[38;5;28;01mas\u001B[39;00m \u001B[38;5;21;01mpd\u001B[39;00m\n\u001B[0;32m      3\u001B[0m \u001B[38;5;28;01mimport\u001B[39;00m \u001B[38;5;21;01mtime\u001B[39;00m\n\u001B[1;32m----> 4\u001B[0m \u001B[38;5;28;01mfrom\u001B[39;00m \u001B[38;5;21;01mscore\u001B[39;00m \u001B[38;5;28;01mimport\u001B[39;00m simplify_eq, score_with_est\n\u001B[0;32m      5\u001B[0m \u001B[38;5;28;01mfrom\u001B[39;00m \u001B[38;5;21;01mspl_base\u001B[39;00m \u001B[38;5;28;01mimport\u001B[39;00m SplBase\n\u001B[0;32m      6\u001B[0m \u001B[38;5;28;01mfrom\u001B[39;00m \u001B[38;5;21;01mspl_task_utils\u001B[39;00m \u001B[38;5;28;01mimport\u001B[39;00m \u001B[38;5;241m*\u001B[39m\n",
      "File \u001B[1;32m~\\PycharmProjects\\SymbolicPhysicsLearner\\score.py:9\u001B[0m\n\u001B[0;32m      7\u001B[0m \u001B[38;5;28;01mimport\u001B[39;00m \u001B[38;5;21;01m_thread\u001B[39;00m\n\u001B[0;32m      8\u001B[0m \u001B[38;5;28;01mimport\u001B[39;00m \u001B[38;5;21;01mtime\u001B[39;00m\n\u001B[1;32m----> 9\u001B[0m \u001B[38;5;28;01mimport\u001B[39;00m \u001B[38;5;21;01mot\u001B[39;00m\n\u001B[0;32m     10\u001B[0m \u001B[38;5;28;01mfrom\u001B[39;00m \u001B[38;5;21;01mscipy\u001B[39;00m \u001B[38;5;28;01mimport\u001B[39;00m integrate\n\u001B[0;32m     11\u001B[0m \u001B[38;5;28;01mfrom\u001B[39;00m \u001B[38;5;21;01mfunctools\u001B[39;00m \u001B[38;5;28;01mimport\u001B[39;00m partial\n",
      "\u001B[1;31mModuleNotFoundError\u001B[0m: No module named 'ot'"
     ]
    }
   ],
   "source": [
    "import sys\n",
    "import numpy as np\n",
    "sys.path.append(r'../')\n",
    "\n",
    "from spl_train import run_spl"
   ]
  },
  {
   "cell_type": "code",
   "execution_count": null,
   "outputs": [],
   "source": [
    "import numpy as np\n",
    "import matplotlib.pylab as pl\n",
    "import ot\n",
    "import ot.plot"
   ],
   "metadata": {
    "collapsed": false
   }
  },
  {
   "cell_type": "code",
   "execution_count": 2,
   "metadata": {},
   "outputs": [],
   "source": [
    "output_folder = 'results_spl/'  ## directory to save discovered results\n",
    "save_eqs = True                 ## if true, discovered equations are saved to \"output_folder\" dir"
   ]
  },
  {
   "cell_type": "markdown",
   "metadata": {},
   "source": [
    "### discover $\\dot x$"
   ]
  },
  {
   "cell_type": "code",
   "execution_count": 3,
   "metadata": {},
   "outputs": [
    {
     "name": "stdout",
     "output_type": "stream",
     "text": [
      "test 0\n",
      "Episode 2000/2000, current best reward 0.34626250318765955.\n",
      "1 tests complete after 1 iterations.\n",
      "best solution: -9.966*x + 9.9644*y\n",
      "test score: 0.3502194186271136\n",
      "\n",
      "test 1\n",
      "Episode 2000/2000, current best reward 0.34626250318765955.\n",
      "2 tests complete after 1 iterations.\n",
      "best solution: -9.966*x + 9.9644*y\n",
      "test score: 0.3502194186271136\n",
      "\n",
      "test 2\n",
      "Episode 2000/2000, current best reward 0.34626250318765955.\n",
      "3 tests complete after 1 iterations.\n",
      "best solution: -9.966*x + 9.9644*y\n",
      "test score: 0.3502194186271136\n",
      "\n",
      "test 3\n",
      "Episode 2000/2000, current best reward 0.34626250318765955.\n",
      "4 tests complete after 1 iterations.\n",
      "best solution: -9.966*x + 9.9644*y\n",
      "test score: 0.3502194186271136\n",
      "\n",
      "test 4\n",
      "Episode 2000/2000, current best reward 0.34626250318765955.\n",
      "5 tests complete after 1 iterations.\n",
      "best solution: -9.966*x + 9.9644*y\n",
      "test score: 0.3502194186271136\n",
      "\n"
     ]
    }
   ],
   "source": [
    "task = 'lorenz_x'\n",
    "\n",
    "all_eqs, _, _ = run_spl(task, \n",
    "                        num_run=5, \n",
    "                        max_len=50,\n",
    "                        eta=1-1e-3, \n",
    "                        max_module_init=20,\n",
    "                        num_transplant=1, \n",
    "                        num_aug=0,\n",
    "                        transplant_step=2000, \n",
    "                        count_success=False)"
   ]
  },
  {
   "cell_type": "markdown",
   "metadata": {},
   "source": [
    "### discover $\\dot y$"
   ]
  },
  {
   "cell_type": "code",
   "execution_count": 4,
   "metadata": {},
   "outputs": [
    {
     "name": "stdout",
     "output_type": "stream",
     "text": [
      "test 0\n",
      "Episode 2000/2000, current best reward 0.23135895139038176.\n",
      "1 tests complete after 1 iterations.\n",
      "best solution: -0.9938*x*z + 27.7636*x - 0.9416*y\n",
      "test score: 0.24127506428460488\n",
      "\n",
      "test 1\n",
      "Episode 2000/2000, current best reward 0.23159020147954457.\n",
      "2 tests complete after 1 iterations.\n",
      "best solution: -0.9938*x*z + 27.7637*x - 0.9416*y\n",
      "test score: 0.24127867491757354\n",
      "\n",
      "test 2\n",
      "Episode 2000/2000, current best reward 0.23111702667288586.\n",
      "3 tests complete after 1 iterations.\n",
      "best solution: -0.9937*x*z + 27.7615962*x - 0.9411*y\n",
      "test score: 0.24135317563724118\n",
      "\n",
      "test 3\n",
      "Episode 2000/2000, current best reward 0.23205559681705484.\n",
      "4 tests complete after 1 iterations.\n",
      "best solution: -0.9937*x*z + 27.7597*x - 0.9408*y\n",
      "test score: 0.24129263951556096\n",
      "\n",
      "test 4\n",
      "Episode 2000/2000, current best reward 0.21863392825311914..\n",
      "5 tests complete after 1 iterations.\n",
      "best solution: -0.9936002*x*z + 27.7563*x - 0.9416*y + 0.0381999999999998*z - 1\n",
      "test score: 0.23706912561360186\n",
      "\n"
     ]
    }
   ],
   "source": [
    "task = 'lorenz_y'\n",
    "\n",
    "all_eqs, _, _ = run_spl(task, \n",
    "                        num_run=5, \n",
    "                        max_len=50,\n",
    "                        eta=1-1e-3, \n",
    "                        max_module_init=20,\n",
    "                        num_transplant=1, \n",
    "                        num_aug=0,\n",
    "                        transplant_step=2000, \n",
    "                        count_success=False)"
   ]
  },
  {
   "cell_type": "markdown",
   "metadata": {},
   "source": [
    "### discover $\\dot z$"
   ]
  },
  {
   "cell_type": "code",
   "execution_count": 5,
   "metadata": {},
   "outputs": [
    {
     "name": "stdout",
     "output_type": "stream",
     "text": [
      "test 0\n",
      "Episode 2000/2000, current best reward 0.19459695568949303.\n",
      "1 tests complete after 1 iterations.\n",
      "best solution: 0.9958*x*y - 2.6549*z\n",
      "test score: 0.22291252445268078\n",
      "\n",
      "test 1\n",
      "Episode 2000/2000, current best reward 0.19459695568949303.\n",
      "2 tests complete after 1 iterations.\n",
      "best solution: 0.9958*x*y - 2.6549*z\n",
      "test score: 0.22291252445268078\n",
      "\n",
      "test 2\n",
      "Episode 2000/2000, current best reward 0.19459695568949303.\n",
      "3 tests complete after 1 iterations.\n",
      "best solution: 0.9958*x*y - 2.6549*z\n",
      "test score: 0.22291252445268078\n",
      "\n",
      "test 3\n",
      "Episode 2000/2000, current best reward 0.19459695568949303..\n",
      "4 tests complete after 1 iterations.\n",
      "best solution: 0.9958*x*y - 2.6549*z\n",
      "test score: 0.22291252445268078\n",
      "\n",
      "test 4\n",
      "Episode 2000/2000, current best reward 0.19459695568949303..\n",
      "5 tests complete after 1 iterations.\n",
      "best solution: 0.9958*x*y - 2.6549*z\n",
      "test score: 0.22291252445268078\n",
      "\n"
     ]
    }
   ],
   "source": [
    "task = 'lorenz_z'\n",
    "\n",
    "all_eqs, _, _ = run_spl(task, \n",
    "                        num_run=5, \n",
    "                        max_len=50,\n",
    "                        eta=1-1e-3, \n",
    "                        max_module_init=20,\n",
    "                        num_transplant=1, \n",
    "                        num_aug=0,\n",
    "                        transplant_step=2000, \n",
    "                        count_success=False)"
   ]
  },
  {
   "cell_type": "code",
   "execution_count": null,
   "metadata": {},
   "outputs": [],
   "source": []
  }
 ],
 "metadata": {
  "kernelspec": {
   "display_name": "Python 3",
   "language": "python",
   "name": "python3"
  },
  "language_info": {
   "codemirror_mode": {
    "name": "ipython",
    "version": 3
   },
   "file_extension": ".py",
   "mimetype": "text/x-python",
   "name": "python",
   "nbconvert_exporter": "python",
   "pygments_lexer": "ipython3",
   "version": "3.7.4"
  }
 },
 "nbformat": 4,
 "nbformat_minor": 2
}
