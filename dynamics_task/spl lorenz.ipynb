{
 "cells": [
  {
   "cell_type": "code",
   "execution_count": 1,
   "metadata": {},
   "outputs": [],
   "source": [
    "import sys\n",
    "import numpy as np\n",
    "sys.path.append(r'../')\n",
    "\n",
    "from spl_train import run_spl"
   ]
  },
  {
   "cell_type": "code",
   "execution_count": 2,
   "metadata": {},
   "outputs": [],
   "source": [
    "output_folder = 'results_spl/'  ## directory to save discovered results\n",
    "save_eqs = True                 ## if true, discovered equations are saved to \"output_folder\" dir"
   ]
  },
  {
   "cell_type": "markdown",
   "metadata": {},
   "source": [
    "### discover $\\dot x$"
   ]
  },
  {
   "cell_type": "code",
   "execution_count": 3,
   "metadata": {},
   "outputs": [
    {
     "name": "stdout",
     "output_type": "stream",
     "text": [
      "test 0\n",
      "Episode 2000/2000, current best reward 0.34626250318765955.\n",
      "1 tests complete after 1 iterations.\n",
      "best solution: -9.966*x + 9.9644*y\n",
      "test score: 0.3502194186271136\n",
      "\n",
      "test 1\n",
      "Episode 2000/2000, current best reward 0.34626250318765955.\n",
      "2 tests complete after 1 iterations.\n",
      "best solution: -9.966*x + 9.9644*y\n",
      "test score: 0.3502194186271136\n",
      "\n",
      "test 2\n",
      "Episode 2000/2000, current best reward 0.34626250318765955.\n",
      "3 tests complete after 1 iterations.\n",
      "best solution: -9.966*x + 9.9644*y\n",
      "test score: 0.3502194186271136\n",
      "\n",
      "test 3\n",
      "Episode 2000/2000, current best reward 0.34626250318765955.\n",
      "4 tests complete after 1 iterations.\n",
      "best solution: -9.966*x + 9.9644*y\n",
      "test score: 0.3502194186271136\n",
      "\n",
      "test 4\n",
      "Episode 2000/2000, current best reward 0.34626250318765955.\n",
      "5 tests complete after 1 iterations.\n",
      "best solution: -9.966*x + 9.9644*y\n",
      "test score: 0.3502194186271136\n",
      "\n"
     ]
    }
   ],
   "source": [
    "task = 'lorenz_x'\n",
    "\n",
    "all_eqs, _, _ = run_spl(task, \n",
    "                        num_run=5, \n",
    "                        max_len=50,\n",
    "                        eta=1-1e-3, \n",
    "                        max_module_init=20,\n",
    "                        num_transplant=1, \n",
    "                        num_aug=0,\n",
    "                        transplant_step=2000, \n",
    "                        count_success=False)"
   ]
  },
  {
   "cell_type": "markdown",
   "metadata": {},
   "source": [
    "### discover $\\dot y$"
   ]
  },
  {
   "cell_type": "code",
   "execution_count": 4,
   "metadata": {},
   "outputs": [
    {
     "name": "stdout",
     "output_type": "stream",
     "text": [
      "test 0\n",
      "Episode 2000/2000, current best reward 0.23135895139038176.\n",
      "1 tests complete after 1 iterations.\n",
      "best solution: -0.9938*x*z + 27.7636*x - 0.9416*y\n",
      "test score: 0.24127506428460488\n",
      "\n",
      "test 1\n",
      "Episode 2000/2000, current best reward 0.23159020147954457.\n",
      "2 tests complete after 1 iterations.\n",
      "best solution: -0.9938*x*z + 27.7637*x - 0.9416*y\n",
      "test score: 0.24127867491757354\n",
      "\n",
      "test 2\n",
      "Episode 2000/2000, current best reward 0.23111702667288586.\n",
      "3 tests complete after 1 iterations.\n",
      "best solution: -0.9937*x*z + 27.7615962*x - 0.9411*y\n",
      "test score: 0.24135317563724118\n",
      "\n",
      "test 3\n",
      "Episode 2000/2000, current best reward 0.23205559681705484.\n",
      "4 tests complete after 1 iterations.\n",
      "best solution: -0.9937*x*z + 27.7597*x - 0.9408*y\n",
      "test score: 0.24129263951556096\n",
      "\n",
      "test 4\n",
      "Episode 2000/2000, current best reward 0.21863392825311914..\n",
      "5 tests complete after 1 iterations.\n",
      "best solution: -0.9936002*x*z + 27.7563*x - 0.9416*y + 0.0381999999999998*z - 1\n",
      "test score: 0.23706912561360186\n",
      "\n"
     ]
    }
   ],
   "source": [
    "task = 'lorenz_y'\n",
    "\n",
    "all_eqs, _, _ = run_spl(task, \n",
    "                        num_run=5, \n",
    "                        max_len=50,\n",
    "                        eta=1-1e-3, \n",
    "                        max_module_init=20,\n",
    "                        num_transplant=1, \n",
    "                        num_aug=0,\n",
    "                        transplant_step=2000, \n",
    "                        count_success=False)"
   ]
  },
  {
   "cell_type": "markdown",
   "metadata": {},
   "source": [
    "### discover $\\dot z$"
   ]
  },
  {
   "cell_type": "code",
   "execution_count": 5,
   "metadata": {},
   "outputs": [
    {
     "name": "stdout",
     "output_type": "stream",
     "text": [
      "test 0\n",
      "Episode 2000/2000, current best reward 0.19459695568949303.\n",
      "1 tests complete after 1 iterations.\n",
      "best solution: 0.9958*x*y - 2.6549*z\n",
      "test score: 0.22291252445268078\n",
      "\n",
      "test 1\n",
      "Episode 2000/2000, current best reward 0.19459695568949303.\n",
      "2 tests complete after 1 iterations.\n",
      "best solution: 0.9958*x*y - 2.6549*z\n",
      "test score: 0.22291252445268078\n",
      "\n",
      "test 2\n",
      "Episode 2000/2000, current best reward 0.19459695568949303.\n",
      "3 tests complete after 1 iterations.\n",
      "best solution: 0.9958*x*y - 2.6549*z\n",
      "test score: 0.22291252445268078\n",
      "\n",
      "test 3\n",
      "Episode 2000/2000, current best reward 0.19459695568949303..\n",
      "4 tests complete after 1 iterations.\n",
      "best solution: 0.9958*x*y - 2.6549*z\n",
      "test score: 0.22291252445268078\n",
      "\n",
      "test 4\n",
      "Episode 2000/2000, current best reward 0.19459695568949303..\n",
      "5 tests complete after 1 iterations.\n",
      "best solution: 0.9958*x*y - 2.6549*z\n",
      "test score: 0.22291252445268078\n",
      "\n"
     ]
    }
   ],
   "source": [
    "task = 'lorenz_z'\n",
    "\n",
    "all_eqs, _, _ = run_spl(task, \n",
    "                        num_run=5, \n",
    "                        max_len=50,\n",
    "                        eta=1-1e-3, \n",
    "                        max_module_init=20,\n",
    "                        num_transplant=1, \n",
    "                        num_aug=0,\n",
    "                        transplant_step=2000, \n",
    "                        count_success=False)"
   ]
  },
  {
   "cell_type": "code",
   "execution_count": null,
   "metadata": {},
   "outputs": [],
   "source": []
  }
 ],
 "metadata": {
  "kernelspec": {
   "display_name": "Python 3",
   "language": "python",
   "name": "python3"
  },
  "language_info": {
   "codemirror_mode": {
    "name": "ipython",
    "version": 3
   },
   "file_extension": ".py",
   "mimetype": "text/x-python",
   "name": "python",
   "nbconvert_exporter": "python",
   "pygments_lexer": "ipython3",
   "version": "3.7.4"
  }
 },
 "nbformat": 4,
 "nbformat_minor": 2
}
